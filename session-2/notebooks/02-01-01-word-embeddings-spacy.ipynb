{
 "cells": [
  {
   "cell_type": "markdown",
   "metadata": {
    "slideshow": {
     "slide_type": "slide"
    }
   },
   "source": [
    "# Word Embeddings tutorial\n",
    "\n",
    "In this notebook we will go through word embeddings using deep learning, we will not train a new model we will use pre-trained ones as training a new one will cost a lot.\n",
    "\n",
    "We will be using `spacy` in this tutorial to demonstrate word embeddings"
   ]
  },
  {
   "cell_type": "markdown",
   "metadata": {
    "slideshow": {
     "slide_type": "fragment"
    }
   },
   "source": [
    "Update pip tools and install spacy\n",
    "\n",
    "`pip install -U pip setuptools wheel`\n",
    "\n",
    "`pip install -U spacy`\n",
    "\n",
    "Download the English model\n",
    "\n",
    "`python -m spacy download en_core_web_md`"
   ]
  },
  {
   "cell_type": "code",
   "execution_count": 61,
   "metadata": {
    "ExecuteTime": {
     "end_time": "2021-11-07T22:19:17.436827Z",
     "start_time": "2021-11-07T22:19:02.594935Z"
    },
    "slideshow": {
     "slide_type": "slide"
    }
   },
   "outputs": [],
   "source": [
    "import spacy\n",
    "import pandas as pd\n",
    "import seaborn as sns\n",
    "from sklearn.metrics.pairwise import cosine_similarity, cosine_distances\n",
    "\n",
    "cm = sns.light_palette(\"blue\", as_cmap=True)\n",
    "nlp = spacy.load('en_core_web_md')"
   ]
  },
  {
   "cell_type": "code",
   "execution_count": 11,
   "metadata": {
    "ExecuteTime": {
     "end_time": "2021-11-07T21:43:21.214084Z",
     "start_time": "2021-11-07T21:43:21.069549Z"
    },
    "slideshow": {
     "slide_type": "fragment"
    }
   },
   "outputs": [],
   "source": [
    "words = ['cat', 'dog', 'car', 'bird', 'eagle']\n",
    "vectors = [nlp(word).vector for word in words]"
   ]
  },
  {
   "cell_type": "code",
   "execution_count": 12,
   "metadata": {
    "ExecuteTime": {
     "end_time": "2021-11-07T21:43:22.239978Z",
     "start_time": "2021-11-07T21:43:22.220166Z"
    },
    "slideshow": {
     "slide_type": "fragment"
    }
   },
   "outputs": [
    {
     "data": {
      "text/html": [
       "<style  type=\"text/css\" >\n",
       "#T_eea0a_row0_col0,#T_eea0a_row1_col1,#T_eea0a_row2_col2,#T_eea0a_row3_col3,#T_eea0a_row4_col4{\n",
       "            background-color:  #0000ff;\n",
       "            color:  #f1f1f1;\n",
       "        }#T_eea0a_row0_col1{\n",
       "            background-color:  #4343fc;\n",
       "            color:  #f1f1f1;\n",
       "        }#T_eea0a_row0_col2,#T_eea0a_row0_col4{\n",
       "            background-color:  #d3d3f4;\n",
       "            color:  #000000;\n",
       "        }#T_eea0a_row0_col3{\n",
       "            background-color:  #9494f7;\n",
       "            color:  #000000;\n",
       "        }#T_eea0a_row1_col0{\n",
       "            background-color:  #4646fb;\n",
       "            color:  #f1f1f1;\n",
       "        }#T_eea0a_row1_col2{\n",
       "            background-color:  #c8c8f5;\n",
       "            color:  #000000;\n",
       "        }#T_eea0a_row1_col3{\n",
       "            background-color:  #a1a1f7;\n",
       "            color:  #000000;\n",
       "        }#T_eea0a_row1_col4{\n",
       "            background-color:  #dedef4;\n",
       "            color:  #000000;\n",
       "        }#T_eea0a_row2_col0,#T_eea0a_row2_col3,#T_eea0a_row2_col4,#T_eea0a_row3_col2,#T_eea0a_row4_col1{\n",
       "            background-color:  #f0f0f3;\n",
       "            color:  #000000;\n",
       "        }#T_eea0a_row2_col1{\n",
       "            background-color:  #dadaf4;\n",
       "            color:  #000000;\n",
       "        }#T_eea0a_row3_col0{\n",
       "            background-color:  #a9a9f6;\n",
       "            color:  #000000;\n",
       "        }#T_eea0a_row3_col1{\n",
       "            background-color:  #b0b0f6;\n",
       "            color:  #000000;\n",
       "        }#T_eea0a_row3_col4,#T_eea0a_row4_col3{\n",
       "            background-color:  #8585f8;\n",
       "            color:  #000000;\n",
       "        }#T_eea0a_row4_col0,#T_eea0a_row4_col2{\n",
       "            background-color:  #efeff3;\n",
       "            color:  #000000;\n",
       "        }</style><table id=\"T_eea0a_\" ><thead>    <tr>        <th class=\"blank level0\" ></th>        <th class=\"col_heading level0 col0\" >cat</th>        <th class=\"col_heading level0 col1\" >dog</th>        <th class=\"col_heading level0 col2\" >car</th>        <th class=\"col_heading level0 col3\" >bird</th>        <th class=\"col_heading level0 col4\" >eagle</th>    </tr></thead><tbody>\n",
       "                <tr>\n",
       "                        <th id=\"T_eea0a_level0_row0\" class=\"row_heading level0 row0\" >cat</th>\n",
       "                        <td id=\"T_eea0a_row0_col0\" class=\"data row0 col0\" >1.000000</td>\n",
       "                        <td id=\"T_eea0a_row0_col1\" class=\"data row0 col1\" >0.801685</td>\n",
       "                        <td id=\"T_eea0a_row0_col2\" class=\"data row0 col2\" >0.319075</td>\n",
       "                        <td id=\"T_eea0a_row0_col3\" class=\"data row0 col3\" >0.523687</td>\n",
       "                        <td id=\"T_eea0a_row0_col4\" class=\"data row0 col4\" >0.324779</td>\n",
       "            </tr>\n",
       "            <tr>\n",
       "                        <th id=\"T_eea0a_level0_row1\" class=\"row_heading level0 row1\" >dog</th>\n",
       "                        <td id=\"T_eea0a_row1_col0\" class=\"data row1 col0\" >0.801685</td>\n",
       "                        <td id=\"T_eea0a_row1_col1\" class=\"data row1 col1\" >1.000000</td>\n",
       "                        <td id=\"T_eea0a_row1_col2\" class=\"data row1 col2\" >0.356292</td>\n",
       "                        <td id=\"T_eea0a_row1_col3\" class=\"data row1 col3\" >0.478755</td>\n",
       "                        <td id=\"T_eea0a_row1_col4\" class=\"data row1 col4\" >0.289382</td>\n",
       "            </tr>\n",
       "            <tr>\n",
       "                        <th id=\"T_eea0a_level0_row2\" class=\"row_heading level0 row2\" >car</th>\n",
       "                        <td id=\"T_eea0a_row2_col0\" class=\"data row2 col0\" >0.319075</td>\n",
       "                        <td id=\"T_eea0a_row2_col1\" class=\"data row2 col1\" >0.356292</td>\n",
       "                        <td id=\"T_eea0a_row2_col2\" class=\"data row2 col2\" >1.000000</td>\n",
       "                        <td id=\"T_eea0a_row2_col3\" class=\"data row2 col3\" >0.223812</td>\n",
       "                        <td id=\"T_eea0a_row2_col4\" class=\"data row2 col4\" >0.228690</td>\n",
       "            </tr>\n",
       "            <tr>\n",
       "                        <th id=\"T_eea0a_level0_row3\" class=\"row_heading level0 row3\" >bird</th>\n",
       "                        <td id=\"T_eea0a_row3_col0\" class=\"data row3 col0\" >0.523687</td>\n",
       "                        <td id=\"T_eea0a_row3_col1\" class=\"data row3 col1\" >0.478755</td>\n",
       "                        <td id=\"T_eea0a_row3_col2\" class=\"data row3 col2\" >0.223812</td>\n",
       "                        <td id=\"T_eea0a_row3_col3\" class=\"data row3 col3\" >1.000000</td>\n",
       "                        <td id=\"T_eea0a_row3_col4\" class=\"data row3 col4\" >0.572219</td>\n",
       "            </tr>\n",
       "            <tr>\n",
       "                        <th id=\"T_eea0a_level0_row4\" class=\"row_heading level0 row4\" >eagle</th>\n",
       "                        <td id=\"T_eea0a_row4_col0\" class=\"data row4 col0\" >0.324779</td>\n",
       "                        <td id=\"T_eea0a_row4_col1\" class=\"data row4 col1\" >0.289382</td>\n",
       "                        <td id=\"T_eea0a_row4_col2\" class=\"data row4 col2\" >0.228690</td>\n",
       "                        <td id=\"T_eea0a_row4_col3\" class=\"data row4 col3\" >0.572219</td>\n",
       "                        <td id=\"T_eea0a_row4_col4\" class=\"data row4 col4\" >1.000000</td>\n",
       "            </tr>\n",
       "    </tbody></table>"
      ],
      "text/plain": [
       "<pandas.io.formats.style.Styler at 0x7f2590b80f10>"
      ]
     },
     "execution_count": 12,
     "metadata": {},
     "output_type": "execute_result"
    }
   ],
   "source": [
    "similarities = cosine_similarity(vectors, vectors)\n",
    "pd.DataFrame(similarities, columns=words, index=words).style.background_gradient(cmap=cm)"
   ]
  },
  {
   "cell_type": "markdown",
   "metadata": {
    "slideshow": {
     "slide_type": "slide"
    }
   },
   "source": [
    "# Vectors !\n",
    "\n",
    "The vectors generated by `spacy` model is a 300 dimensional vector which is the output of a pre-trained GloVe model."
   ]
  },
  {
   "cell_type": "code",
   "execution_count": 13,
   "metadata": {
    "ExecuteTime": {
     "end_time": "2021-11-07T21:50:15.459013Z",
     "start_time": "2021-11-07T21:50:15.403882Z"
    }
   },
   "outputs": [
    {
     "name": "stdout",
     "output_type": "stream",
     "text": [
      "(300,)\n",
      "[-0.60877  0.30253 -0.12351 -0.23647  0.2665 ]\n"
     ]
    }
   ],
   "source": [
    "vector = nlp(\"Bank\").vector\n",
    "print(vector.shape)\n",
    "print(vector[:5])"
   ]
  },
  {
   "cell_type": "markdown",
   "metadata": {
    "slideshow": {
     "slide_type": "slide"
    }
   },
   "source": [
    "## Embeddings as feature\n",
    "\n",
    "We can use word embedding as features of the text and build a classifier using them"
   ]
  },
  {
   "cell_type": "code",
   "execution_count": 29,
   "metadata": {
    "ExecuteTime": {
     "end_time": "2021-11-07T22:05:53.193521Z",
     "start_time": "2021-11-07T22:05:51.227981Z"
    },
    "slideshow": {
     "slide_type": "fragment"
    }
   },
   "outputs": [],
   "source": [
    "import numpy as np\n",
    "from tqdm.auto import tqdm\n",
    "from sklearn.datasets import fetch_20newsgroups\n",
    "from sklearn.linear_model import LogisticRegression\n",
    "from sklearn.svm import LinearSVC\n",
    "from sklearn.metrics import classification_report\n",
    "\n",
    "categories = ['alt.atheism', 'soc.religion.christian',\n",
    "              'comp.graphics', 'sci.med']\n",
    "x_train, y_train = fetch_20newsgroups(categories=categories, \n",
    "                          remove=('headers', 'footers', 'quotes'), return_X_y=True)\n",
    "x_test, y_test = fetch_20newsgroups(categories=categories, \n",
    "                          remove=('headers', 'footers', 'quotes'), return_X_y=True, subset='test')"
   ]
  },
  {
   "cell_type": "code",
   "execution_count": 30,
   "metadata": {
    "ExecuteTime": {
     "end_time": "2021-11-07T22:08:34.484149Z",
     "start_time": "2021-11-07T22:05:54.754281Z"
    },
    "slideshow": {
     "slide_type": "fragment"
    }
   },
   "outputs": [
    {
     "data": {
      "application/vnd.jupyter.widget-view+json": {
       "model_id": "9bf8983ce2854ad1a78cf68e08dc888c",
       "version_major": 2,
       "version_minor": 0
      },
      "text/plain": [
       "  0%|          | 0/2257 [00:00<?, ?it/s]"
      ]
     },
     "metadata": {},
     "output_type": "display_data"
    },
    {
     "data": {
      "application/vnd.jupyter.widget-view+json": {
       "model_id": "0dc47898e26c491b890dacaa7f04f8f0",
       "version_major": 2,
       "version_minor": 0
      },
      "text/plain": [
       "  0%|          | 0/1502 [00:00<?, ?it/s]"
      ]
     },
     "metadata": {},
     "output_type": "display_data"
    }
   ],
   "source": [
    "x_train_v = np.zeros((len(x_train), 300))\n",
    "x_test_v = np.zeros((len(x_test), 300))\n",
    "\n",
    "for i, doc in tqdm(enumerate(nlp.pipe(x_train)), total=len(x_train)):\n",
    "    x_train_v[i, :] = doc.vector\n",
    "\n",
    "for i, doc in tqdm(enumerate(nlp.pipe(x_test)), total=len(x_test)):\n",
    "    x_test_v[i, :] = doc.vector"
   ]
  },
  {
   "cell_type": "markdown",
   "metadata": {
    "slideshow": {
     "slide_type": "slide"
    }
   },
   "source": [
    "# Train a classifier"
   ]
  },
  {
   "cell_type": "code",
   "execution_count": 37,
   "metadata": {
    "ExecuteTime": {
     "end_time": "2021-11-07T22:12:21.083444Z",
     "start_time": "2021-11-07T22:12:19.718135Z"
    },
    "slideshow": {
     "slide_type": "fragment"
    }
   },
   "outputs": [
    {
     "name": "stdout",
     "output_type": "stream",
     "text": [
      "                        precision    recall  f1-score   support\n",
      "\n",
      "           alt.atheism       0.72      0.65      0.69       319\n",
      "soc.religion.christian       0.91      0.90      0.91       389\n",
      "         comp.graphics       0.85      0.88      0.86       396\n",
      "               sci.med       0.80      0.83      0.82       398\n",
      "\n",
      "              accuracy                           0.83      1502\n",
      "             macro avg       0.82      0.82      0.82      1502\n",
      "          weighted avg       0.83      0.83      0.83      1502\n",
      "\n"
     ]
    }
   ],
   "source": [
    "clf = LinearSVC()\n",
    "clf.fit(x_train_v, y_train)\n",
    "print(classification_report(y_test, clf.predict(x_test_v), target_names=categories))"
   ]
  },
  {
   "cell_type": "markdown",
   "metadata": {
    "slideshow": {
     "slide_type": "slide"
    }
   },
   "source": [
    "# Get top similar"
   ]
  },
  {
   "cell_type": "code",
   "execution_count": 67,
   "metadata": {
    "ExecuteTime": {
     "end_time": "2021-11-07T22:25:25.193868Z",
     "start_time": "2021-11-07T22:25:25.134700Z"
    },
    "slideshow": {
     "slide_type": "fragment"
    }
   },
   "outputs": [
    {
     "name": "stdout",
     "output_type": "stream",
     "text": [
      "ID: 451\n",
      "True label: \u001b[32msci.med\u001b[0m\n",
      "0 nearest label is \u001b[32msci.med\u001b[0m similarity score: \u001b[33m0.991\u001b[0m\n",
      "1 nearest label is \u001b[32msci.med\u001b[0m similarity score: \u001b[33m0.991\u001b[0m\n",
      "2 nearest label is \u001b[32msci.med\u001b[0m similarity score: \u001b[33m0.991\u001b[0m\n",
      "ID: 1278\n",
      "True label: \u001b[32msoc.religion.christian\u001b[0m\n",
      "0 nearest label is \u001b[32msoc.religion.christian\u001b[0m similarity score: \u001b[33m0.965\u001b[0m\n",
      "1 nearest label is \u001b[32msoc.religion.christian\u001b[0m similarity score: \u001b[33m0.962\u001b[0m\n",
      "2 nearest label is \u001b[32msoc.religion.christian\u001b[0m similarity score: \u001b[33m0.96\u001b[0m\n",
      "ID: 107\n",
      "True label: \u001b[32mcomp.graphics\u001b[0m\n",
      "0 nearest label is \u001b[32mcomp.graphics\u001b[0m similarity score: \u001b[33m0.965\u001b[0m\n",
      "1 nearest label is \u001b[32mcomp.graphics\u001b[0m similarity score: \u001b[33m0.959\u001b[0m\n",
      "2 nearest label is \u001b[32mcomp.graphics\u001b[0m similarity score: \u001b[33m0.958\u001b[0m\n",
      "ID: 407\n",
      "True label: \u001b[32msoc.religion.christian\u001b[0m\n",
      "0 nearest label is \u001b[32msoc.religion.christian\u001b[0m similarity score: \u001b[33m0.94\u001b[0m\n",
      "1 nearest label is \u001b[32msoc.religion.christian\u001b[0m similarity score: \u001b[33m0.936\u001b[0m\n",
      "2 nearest label is \u001b[32msoc.religion.christian\u001b[0m similarity score: \u001b[33m0.935\u001b[0m\n",
      "ID: 1307\n",
      "True label: \u001b[32mcomp.graphics\u001b[0m\n",
      "0 nearest label is \u001b[31malt.atheism\u001b[0m similarity score: \u001b[33m0.964\u001b[0m\n",
      "1 nearest label is \u001b[31msoc.religion.christian\u001b[0m similarity score: \u001b[33m0.962\u001b[0m\n",
      "2 nearest label is \u001b[32mcomp.graphics\u001b[0m similarity score: \u001b[33m0.962\u001b[0m\n"
     ]
    }
   ],
   "source": [
    "import random\n",
    "from termcolor import colored\n",
    "\n",
    "for i in random.choices(range(0, len(x_test_v)), k=5):\n",
    "    print(f\"ID: {i}\")\n",
    "    print(\"True label:\", colored(categories[y_test[i]], 'green'))\n",
    "    distances = cosine_similarity([x_test_v[i]], x_train_v).flatten()\n",
    "    indices = np.argsort(distances)[::-1]\n",
    "    for _, j in enumerate(indices[:3]):\n",
    "        print(f\"{_} nearest label is\",\n",
    "              f\"{colored(categories[y_train[j]], 'green' if y_train[j]==y_test[i] else 'red')}\",\n",
    "              f\"similarity score: {colored(round(distances[j], 3), 'yellow')}\")"
   ]
  },
  {
   "cell_type": "markdown",
   "metadata": {
    "slideshow": {
     "slide_type": "slide"
    }
   },
   "source": [
    "# Conclusion\n",
    "\n",
    "- Word embedding is a very powerful feature specially if you have small data, as your model will make use of the learned features of the word2vec model and thus will be able to make better predictions.\n",
    "- Word2vec and GloVe don't count for different context that the same word can have in different sentences"
   ]
  }
 ],
 "metadata": {
  "celltoolbar": "Slideshow",
  "kernelspec": {
   "display_name": "python3.7",
   "language": "python",
   "name": "python3.7"
  },
  "language_info": {
   "codemirror_mode": {
    "name": "ipython",
    "version": 3
   },
   "file_extension": ".py",
   "mimetype": "text/x-python",
   "name": "python",
   "nbconvert_exporter": "python",
   "pygments_lexer": "ipython3",
   "version": "3.7.4"
  }
 },
 "nbformat": 4,
 "nbformat_minor": 2
}
